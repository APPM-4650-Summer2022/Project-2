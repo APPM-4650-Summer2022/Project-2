{
 "cells": [
  {
   "cell_type": "markdown",
   "metadata": {},
   "source": [
    "Date created: July 13, 2022\n",
    "\n",
    "---\n",
    "\n",
    "## Project 2: Flow Over a Flat Plate\n",
    "**Authors:** Tyler Reiser, Mason F., Brian Tan     \n",
    "**Summary:** Modeling the flow over a flat plate.  \n",
    "       \n",
    "---\n",
    "\n",
    "#### Finding the coupled system\n",
    "We have two coupled, ordinary differential equations. We want $G$, but we need to know $F$ to solve for $G$. So there are two equations. Writing it as a system is a little more difficult, so let's split it up. \n",
    "\n",
    "$F$ is a third-order differential equation with three given boundary conditions. So this is a **three-point boundary valued problem**. These are really tough to solve, unless we can turn it into an initial value problem. We can solve IVP easily with RK4. Look at [1] for reference on how to transform the higher-order differential equation as a coupled system of first-order differential equations. This is one of the algorithms learned in differential equations.\n",
    "\n",
    "Let the coupled system of first order differential equations be,\n",
    "\n",
    "$x' = y$   \n",
    "$y' = z$    \n",
    "$z' = - \\frac{1}{2} xz$   \n",
    "\n",
    "and let the initial conditions be, $x(0) = 1$, $y(0) = 2$, and $z(0) = 3$. \n",
    "\n",
    "Note that we are making a guess at the initial conditions here. Since the success of the algorithm relies on this guess, we need to \"do our homework\" on the problem and make sure this is an educated guess. This is the analysis of the numerics. \n",
    ">**TEAM!** Lets add something here about *WHY* these are good guesses. \n",
    "\n",
    "Now, consider the boundary-values given by the problem. Notice that one point is at infinity; this implies that the first two boundary-values are very close to eachother when compared to their distance from the point at infinity. Because of this, I think it's best to integrate from left-to-right. The step size is given to us as $0.1$.\n",
    "        \n",
    "---\n",
    "\n",
    "#### Fourth-order Runge Kutta Method\n",
    "Adding more equations to the RK4 algorithm doesn't change the code from project 1 in too many ways. It looks big and confusing but it just has more variables. Note that this is written without loops to avoid type-checks. The algorithm is in one function that moves our initial guesses across time. Since we have a system of differential equations, at each step, we have to move each initial condition across time for every equation and RK4 tells us how we \"average\" the results of each output. The output is the coordinates of our initial conditions at the next step in time."
   ]
  },
  {
   "cell_type": "code",
   "execution_count": 1,
   "metadata": {},
   "outputs": [],
   "source": [
    "import numpy as np\n",
    "\n",
    "def RK4(t, x, y, z, equation_1, equation_2, equation_3, dt):\n",
    "    k1[0] = dt*equation_1(t, x, y, z)\n",
    "    k1[1] = dt*equation_2(t, x, y, z)\n",
    "    k1[2] = dt*equation_3(t, x, y, z)\n",
    "\n",
    "    k2[0] = dt*equation_1(t + dt/2., x + k1[0]/2., y + k1[1]/2., z + k1[2]/2.)\n",
    "    k2[1] = dt*equation_2(t + dt/2., x + k1[0]/2., y + k1[1]/2., z + k1[2]/2.)\n",
    "    k2[2] = dt*equation_3(t + dt/2., x + k1[0]/2., y + k1[1]/2., z + k1[2]/2.)\n",
    "\n",
    "    k3[0] = dt*equation_1(t + dt/2., x + k2[0]/2., y + k2[1]/2., z + k2[2]/2.)\n",
    "    k3[1] = dt*equation_2(t + dt/2., x + k2[0]/2., y + k2[1]/2., z + k2[2]/2.)\n",
    "    k3[2] = dt*equation_3(t + dt/2., x + k2[0]/2., y + k2[1]/2., z + k2[2]/2.)\n",
    "\n",
    "    k4[0] = dt*equation_1(t + dt, x + k3[0], y + k3[1], z + k3[2])\n",
    "    k4[1] = dt*equation_2(t + dt, x + k3[0], y + k3[1], z + k3[2])\n",
    "    k4[2] = dt*equation_3(t + dt, x + k3[0], y + k3[1], z + k3[2])\n",
    "\n",
    "    x = x + (1./6.)*(k1[0] + 2.*k2[0] + 2.*k3[0] + k4[0])\n",
    "    y = y + (1./6.)*(k1[1] + 2.*k2[1] + 2.*k3[1] + k4[1])\n",
    "    z = z + (1./6.)*(k1[2] + 2.*k2[2] + 2.*k3[2] + k4[2])\n",
    "\n",
    "    return np.array([x, y, z])"
   ]
  },
  {
   "cell_type": "markdown",
   "metadata": {},
   "source": [
    "---\n",
    "#### Parameters\n",
    "Now we define the variables going through the algorithm and define the coupled system as three functions. This is pretty straight forward."
   ]
  },
  {
   "cell_type": "code",
   "execution_count": 2,
   "metadata": {},
   "outputs": [],
   "source": [
    "# time scale\n",
    "t0 = 0.\n",
    "dt = 0.1 # given step size\n",
    "tmax = 10.\n",
    "vector_t = np.arange(t0, tmax, dt)\n",
    "n = len(vector_t)\n",
    "\n",
    "# setting initial conditions\n",
    "rk4_data = np.zeros((n, 3))\n",
    "rk4_data[0, 0] = 1\n",
    "rk4_data[0, 1] = 2\n",
    "rk4_data[0, 2] = 3\n",
    "\n",
    "# storage\n",
    "k1 = np.array([0., 0., 0.])\n",
    "k2 = np.array([0., 0., 0.])\n",
    "k3 = np.array([0., 0., 0.])\n",
    "k4 = np.array([0., 0., 0.])\n",
    "\n",
    "# coupled system from above\n",
    "def equation_1(t, x, y, z):\n",
    "    return y\n",
    "\n",
    "def equation_2(t, x, y, z):\n",
    "    return z\n",
    "\n",
    "def equation_3(t, x, y, z):\n",
    "    return -1/2*(x*z)"
   ]
  },
  {
   "cell_type": "markdown",
   "metadata": {},
   "source": [
    "---\n",
    "#### Creating a data stream\n",
    "The time-scale is defined above. We want to move the initial conditions across time, so a single loop is used. This is because this is an **iterative method**. Slicing is used to print the first and last four values of the data stream."
   ]
  },
  {
   "cell_type": "code",
   "execution_count": 3,
   "metadata": {},
   "outputs": [
    {
     "name": "stdout",
     "output_type": "stream",
     "text": [
      "Take a look at our data stream: \n",
      "\n",
      " [[1.         2.         3.        ]\n",
      " [1.21474094 2.29212424 2.83875553]\n",
      " [1.457851   2.56701727 2.65558725]\n",
      " [1.72750023 2.82257722 2.45257593]]\n",
      "  ...  \n",
      "[[4.11442851e+01 4.31062509e+00 5.85786783e-36]\n",
      " [4.15753476e+01 4.31062509e+00 2.09911360e-36]\n",
      " [4.20064101e+01 4.31062509e+00 7.70986763e-37]\n",
      " [4.24374726e+01 4.31062509e+00 2.90469484e-37]]\n"
     ]
    }
   ],
   "source": [
    "for i in range(n-1): \n",
    "    rk4_data[i+1, :] = RK4(vector_t[i], rk4_data[i, 0], rk4_data[i, 1], rk4_data[i, 2], equation_1, equation_2, equation_3, dt)\n",
    "\n",
    "# printing some data\n",
    "print(\"Take a look at our data stream: \\n\\n\", rk4_data[:4, :])\n",
    "print(\"  ...  \")\n",
    "print(rk4_data[n-4:, :])"
   ]
  },
  {
   "cell_type": "markdown",
   "metadata": {},
   "source": [
    "---\n",
    "#### Shooting Method\n",
    "We check how well our guesses were by calculating the residuals. This is called the *shooting method*."
   ]
  },
  {
   "cell_type": "code",
   "execution_count": 4,
   "metadata": {},
   "outputs": [],
   "source": [
    "# def residuals(x, y, z):\n",
    "    \n",
    "    "
   ]
  },
  {
   "cell_type": "code",
   "execution_count": null,
   "metadata": {},
   "outputs": [],
   "source": []
  },
  {
   "cell_type": "code",
   "execution_count": null,
   "metadata": {},
   "outputs": [],
   "source": []
  },
  {
   "cell_type": "code",
   "execution_count": null,
   "metadata": {},
   "outputs": [],
   "source": []
  },
  {
   "cell_type": "markdown",
   "metadata": {},
   "source": [
    "---\n",
    "\n",
    "### References\n",
    "\n",
    "[1]:  [Couple Dif. Eq.](https://tutorial.math.lamar.edu/Classes/DE/SystemsDE.aspx)"
   ]
  },
  {
   "cell_type": "code",
   "execution_count": null,
   "metadata": {},
   "outputs": [],
   "source": []
  }
 ],
 "metadata": {
  "kernelspec": {
   "display_name": "Python 3 (ipykernel)",
   "language": "python",
   "name": "python3"
  },
  "language_info": {
   "codemirror_mode": {
    "name": "ipython",
    "version": 3
   },
   "file_extension": ".py",
   "mimetype": "text/x-python",
   "name": "python",
   "nbconvert_exporter": "python",
   "pygments_lexer": "ipython3",
   "version": "3.9.10"
  },
  "vscode": {
   "interpreter": {
    "hash": "aee8b7b246df8f9039afb4144a1f6fd8d2ca17a180786b69acc140d282b71a49"
   }
  }
 },
 "nbformat": 4,
 "nbformat_minor": 2
}
