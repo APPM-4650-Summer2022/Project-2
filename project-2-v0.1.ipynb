{
 "cells": [
  {
   "cell_type": "markdown",
   "metadata": {},
   "source": [
    "Date created: July 13, 2022\n",
    "\n",
    "---\n",
    "\n",
    "## Project 2: Flow Over a Flat Plate\n",
    "**Authors:**\n",
    "**Summary:**\n",
    "\n",
    "---\n",
    "\n",
    "\n",
    "#### Basic idea:\n",
    "- reduce to first-order system of equations\n",
    "    - this gives a system of 3 equations\n",
    "- we need to guess some real numbers $x, y, z$\n",
    "    - must be a *good* guess\n",
    "    - the output is a stream of data, [x,y,z]\n",
    "- compare each to the boundary condition given in the problem\n",
    "    - case 1: matches \n",
    "        ie. guess for *u* was good\n",
    "        keep going\n",
    "    - case 2: does not match \n",
    "        ie. guess for *u* was not good\n",
    "        try again\n",
    "        \n",
    "---\n",
    "\n",
    "#### Finding the coupled system\n",
    "\n",
    "We have two coupled ordinary differential equations. We want G, but we need to know F to solve for G. So there are two equations. Writing it as a system is a little more difficult, so let's split it up. \n",
    "\n",
    "F is a third-order differential equation with three given boundary conditions. So this is a **three-point boundary valued problem**. These are really tough to solve, unless we can turn it into an initial value problem. We can solve those easily with RK4. Look at [1] for reference on how to do this. It's one of the algorithms learned in differential equations.\n",
    "\n",
    "we get,\n",
    "\n",
    "$x' = y$   \n",
    "$y' = z$    \n",
    "$z' = - \\frac{1}{2} xz$   \n",
    "\n",
    "Let the initial conditions be,\n",
    "\n",
    "$x(0) = 1$   \n",
    "$y(0) = 2$    \n",
    "$z(0) = 3$   \n",
    "\n",
    "Observe that the first two boundary conditions are near eachother. I think this is a hint that we should start the integration from the left to the right and a step size is given as 0.1.\n",
    "        \n",
    "---\n",
    "\n",
    "#### RK4\n",
    "Adding more equations to the RK4 algorithm does not change it much. This is pretty much the same as the RK4 used for one equations, only with more variables."
   ]
  },
  {
   "cell_type": "code",
   "execution_count": 2,
   "metadata": {},
   "outputs": [],
   "source": [
    "import numpy as np\n",
    "\n",
    "def RK4(t, x, y, z, equation_1, equation_2, equation_3, dt):\n",
    "    k1[0] = dt*equation_1(t, x, y, z)\n",
    "    k1[1] = dt*equation_2(t, x, y, z)\n",
    "    k1[2] = dt*equation_3(t, x, y, z)\n",
    "\n",
    "    k2[0] = dt*equation_1(t + dt/2., x + k1[0]/2., y + k1[1]/2., z + k1[2]/2.)\n",
    "    k2[1] = dt*equation_2(t + dt/2., x + k1[0]/2., y + k1[1]/2., z + k1[2]/2.)\n",
    "    k2[2] = dt*equation_3(t + dt/2., x + k1[0]/2., y + k1[1]/2., z + k1[2]/2.)\n",
    "\n",
    "    k3[0] = dt*equation_1(t + dt/2., x + k2[0]/2., y + k2[1]/2., z + k2[2]/2.)\n",
    "    k3[1] = dt*equation_2(t + dt/2., x + k2[0]/2., y + k2[1]/2., z + k2[2]/2.)\n",
    "    k3[2] = dt*equation_3(t + dt/2., x + k2[0]/2., y + k2[1]/2., z + k2[2]/2.)\n",
    "\n",
    "    k4[0] = dt*equation_1(t + dt, x + k3[0], y + k3[1], z + k3[2])\n",
    "    k4[1] = dt*equation_2(t + dt, x + k3[0], y + k3[1], z + k3[2])\n",
    "    k4[2] = dt*equation_3(t + dt, x + k3[0], y + k3[1], z + k3[2])\n",
    "\n",
    "    x = x + (1./6.)*(k1[0] + 2.*k2[0] + 2.*k3[0] + k4[0])\n",
    "    y = y + (1./6.)*(k1[1] + 2.*k2[1] + 2.*k3[1] + k4[1])\n",
    "    z = z + (1./6.)*(k1[2] + 2.*k2[2] + 2.*k3[2] + k4[2])\n",
    "\n",
    "    return np.array([x, y, z, t])"
   ]
  },
  {
   "cell_type": "code",
   "execution_count": 4,
   "metadata": {},
   "outputs": [],
   "source": [
    "# initial conditions\n",
    "x = 1\n",
    "y = 2\n",
    "z = 3\n",
    "\n",
    "# time scale\n",
    "t0 = 0.\n",
    "dt = 0.1 # given step size\n",
    "tmax = 10.\n",
    "vector_t = np.arange(t0, tmax, dt)\n",
    "n = len(vector_t)\n",
    "\n",
    "k1 = np.array([0., 0., 0.])\n",
    "k2 = np.array([0., 0., 0.])\n",
    "k3 = np.array([0., 0., 0.])\n",
    "k4 = np.array([0., 0., 0.])\n",
    "\n",
    "def equation_1(t, x, y, z):\n",
    "    return y\n",
    "\n",
    "def equation_2(t, x, y, z):\n",
    "    return z\n",
    "\n",
    "def equation_3(t, x, y, z):\n",
    "    return -1/2*(x*z)"
   ]
  },
  {
   "cell_type": "code",
   "execution_count": 7,
   "metadata": {},
   "outputs": [
    {
     "name": "stdout",
     "output_type": "stream",
     "text": [
      "[[1.         2.         3.         0.        ]\n",
      " [1.21474094 2.29212424 2.83875553 0.        ]\n",
      " [1.457851   2.56701727 2.65558725 0.1       ]\n",
      " [1.72750023 2.82257722 2.45257593 0.2       ]\n",
      " [2.02166159 3.05698954 2.23336162 0.3       ]\n",
      " [2.3381471  3.26887258 2.00291067 0.4       ]\n",
      " [2.67465721 3.45739236 1.76713665 0.5       ]\n",
      " [3.02883955 3.62233354 1.5324116  0.6       ]\n",
      " [3.39835213 3.76411846 1.30502643 0.7       ]\n",
      " [3.78092587 3.88377254 1.09067114 0.8       ]]\n"
     ]
    }
   ],
   "source": [
    " # set initial conditions\n",
    "rk4_data = np.zeros((n, 4))\n",
    "rk4_data[0, 0] = x\n",
    "rk4_data[0, 1] = y\n",
    "rk4_data[0, 2] = z\n",
    "rk4_data[0, 3] = vector_t[0]\n",
    "\n",
    "# loop\n",
    "for i in range(n-1): \n",
    "    rk4_data[i+1, :] = RK4(vector_t[i], rk4_data[i, 0], rk4_data[i, 1], rk4_data[i, 2], equation_1, equation_2, equation_3, dt)\n",
    "\n",
    "# print some data to check\n",
    "print(rk4_data[:10, :])"
   ]
  },
  {
   "cell_type": "markdown",
   "metadata": {},
   "source": [
    "#### Shooting Method\n",
    "We check how well our guesses were by calculating the residuals. This is called the *shooting method*."
   ]
  },
  {
   "cell_type": "code",
   "execution_count": null,
   "metadata": {},
   "outputs": [],
   "source": [
    "# def residuals(x, y, z):\n",
    "    \n",
    "    "
   ]
  },
  {
   "cell_type": "code",
   "execution_count": null,
   "metadata": {},
   "outputs": [],
   "source": []
  },
  {
   "cell_type": "code",
   "execution_count": null,
   "metadata": {},
   "outputs": [],
   "source": []
  },
  {
   "cell_type": "code",
   "execution_count": null,
   "metadata": {},
   "outputs": [],
   "source": []
  },
  {
   "cell_type": "markdown",
   "metadata": {},
   "source": [
    "---\n",
    "\n",
    "### References\n",
    "\n",
    "[1]:  [Couple Dif. Eq.](https://tutorial.math.lamar.edu/Classes/DE/SystemsDE.aspx)"
   ]
  },
  {
   "cell_type": "code",
   "execution_count": null,
   "metadata": {},
   "outputs": [],
   "source": []
  }
 ],
 "metadata": {
  "kernelspec": {
   "display_name": "Python 3 (ipykernel)",
   "language": "python",
   "name": "python3"
  },
  "language_info": {
   "codemirror_mode": {
    "name": "ipython",
    "version": 3
   },
   "file_extension": ".py",
   "mimetype": "text/x-python",
   "name": "python",
   "nbconvert_exporter": "python",
   "pygments_lexer": "ipython3",
   "version": "3.9.10"
  },
  "vscode": {
   "interpreter": {
    "hash": "aee8b7b246df8f9039afb4144a1f6fd8d2ca17a180786b69acc140d282b71a49"
   }
  }
 },
 "nbformat": 4,
 "nbformat_minor": 2
}
